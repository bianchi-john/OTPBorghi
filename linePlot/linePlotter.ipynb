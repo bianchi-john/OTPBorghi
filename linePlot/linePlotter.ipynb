{
 "cells": [
  {
   "cell_type": "markdown",
   "metadata": {},
   "source": [
    "# Line frequencies\n",
    "\n",
    "\n",
    "https://github.com/Bondify/gtfs_functions#line_freq\n"
   ]
  },
  {
   "cell_type": "code",
   "execution_count": 42,
   "metadata": {},
   "outputs": [
    {
     "name": "stdout",
     "output_type": "stream",
     "text": [
      "Collecting package metadata (current_repodata.json): done\n",
      "Solving environment: done\n",
      "\n",
      "\n",
      "==> WARNING: A newer version of conda exists. <==\n",
      "  current version: 23.5.2\n",
      "  latest version: 23.10.0\n",
      "\n",
      "Please update conda by running\n",
      "\n",
      "    $ conda update -n base -c defaults conda\n",
      "\n",
      "Or to minimize the number of packages updated during conda update use\n",
      "\n",
      "     conda install conda=23.10.0\n",
      "\n",
      "\n",
      "\n",
      "# All requested packages already installed.\n",
      "\n"
     ]
    }
   ],
   "source": [
    "!conda install pandas=1.5.3 --y\n"
   ]
  },
  {
   "cell_type": "code",
   "execution_count": null,
   "metadata": {},
   "outputs": [],
   "source": []
  },
  {
   "cell_type": "code",
   "execution_count": 46,
   "metadata": {},
   "outputs": [
    {
     "name": "stderr",
     "output_type": "stream",
     "text": [
      "INFO:root:Reading \"routes.txt\".\n",
      "INFO:root:Reading \"stops.txt\".\n",
      "INFO:root:accessing trips\n",
      "INFO:root:Reading \"trips.txt\".\n",
      "INFO:root:Reading \"trips.txt\".\n",
      "INFO:root:computing patterns\n",
      "INFO:root:_trips is defined in stop_times\n",
      "INFO:root:Reading \"stop_times.txt\".\n",
      "INFO:root:Reading \"shapes.txt\".\n",
      "INFO:root:get trips in stop_times\n",
      "INFO:root:accessing trips\n",
      "INFO:root:Reading \"routes.txt\".\n",
      "INFO:root:Reading \"trips.txt\".\n",
      "INFO:root:Reading \"trips.txt\".\n",
      "INFO:root:computing patterns\n",
      "INFO:root:_trips is defined in stop_times\n",
      "INFO:root:Reading \"stops.txt\".\n",
      "INFO:root:Reading \"stop_times.txt\".\n",
      "INFO:root:Reading \"stop_times.txt\".\n",
      "INFO:root:Reading \"shapes.txt\".\n",
      "INFO:root:segments_df: 211, geometry: 211\n",
      "INFO:root:adding data for all lines.\n"
     ]
    },
    {
     "ename": "AttributeError",
     "evalue": "'DataFrame' object has no attribute 'append'",
     "output_type": "error",
     "traceback": [
      "\u001b[0;31m---------------------------------------------------------------------------\u001b[0m",
      "\u001b[0;31mAttributeError\u001b[0m                            Traceback (most recent call last)",
      "\u001b[1;32m/home/john/Progetti/GitHub/OTPBorghi/linePlot/linePlotter.ipynb Cell 4\u001b[0m line \u001b[0;36m2\n\u001b[1;32m     <a href='vscode-notebook-cell:/home/john/Progetti/GitHub/OTPBorghi/linePlot/linePlotter.ipynb#X23sZmlsZQ%3D%3D?line=17'>18</a>\u001b[0m segments_gdf \u001b[39m=\u001b[39m feed\u001b[39m.\u001b[39msegments\n\u001b[1;32m     <a href='vscode-notebook-cell:/home/john/Progetti/GitHub/OTPBorghi/linePlot/linePlotter.ipynb#X23sZmlsZQ%3D%3D?line=18'>19</a>\u001b[0m \u001b[39m#speeds = feed.avg_speeds\u001b[39;00m\n\u001b[0;32m---> <a href='vscode-notebook-cell:/home/john/Progetti/GitHub/OTPBorghi/linePlot/linePlotter.ipynb#X23sZmlsZQ%3D%3D?line=19'>20</a>\u001b[0m segments_freq \u001b[39m=\u001b[39m feed\u001b[39m.\u001b[39;49msegments_freq\n",
      "File \u001b[0;32m~/Progetti/GitHub/OTPBorghi/.conda/lib/python3.8/site-packages/gtfs_functions/gtfs_functions.py:199\u001b[0m, in \u001b[0;36mFeed.segments_freq\u001b[0;34m(self)\u001b[0m\n\u001b[1;32m    196\u001b[0m \u001b[39m@property\u001b[39m\n\u001b[1;32m    197\u001b[0m \u001b[39mdef\u001b[39;00m \u001b[39msegments_freq\u001b[39m(\u001b[39mself\u001b[39m):\n\u001b[1;32m    198\u001b[0m     \u001b[39mif\u001b[39;00m \u001b[39mself\u001b[39m\u001b[39m.\u001b[39m_segments_freq \u001b[39mis\u001b[39;00m \u001b[39mNone\u001b[39;00m:\n\u001b[0;32m--> 199\u001b[0m         \u001b[39mself\u001b[39m\u001b[39m.\u001b[39m_segments_freq \u001b[39m=\u001b[39m \u001b[39mself\u001b[39;49m\u001b[39m.\u001b[39;49mget_segments_freq()\n\u001b[1;32m    201\u001b[0m     \u001b[39mreturn\u001b[39;00m \u001b[39mself\u001b[39m\u001b[39m.\u001b[39m_segments_freq\n",
      "File \u001b[0;32m~/Progetti/GitHub/OTPBorghi/.conda/lib/python3.8/site-packages/gtfs_functions/gtfs_functions.py:704\u001b[0m, in \u001b[0;36mFeed.get_segments_freq\u001b[0;34m(self)\u001b[0m\n\u001b[1;32m    701\u001b[0m line_frequencies\u001b[39m.\u001b[39mdrop_duplicates(inplace\u001b[39m=\u001b[39m\u001b[39mTrue\u001b[39;00m)\n\u001b[1;32m    703\u001b[0m \u001b[39m# Aggregate for all lines\u001b[39;00m\n\u001b[0;32m--> 704\u001b[0m data_complete \u001b[39m=\u001b[39m add_all_lines(\n\u001b[1;32m    705\u001b[0m     line_frequencies, segment_gdf, labels, cutoffs)\n\u001b[1;32m    707\u001b[0m \u001b[39m# Do we want a geodataframe?\u001b[39;00m\n\u001b[1;32m    708\u001b[0m \u001b[39mif\u001b[39;00m \u001b[39mself\u001b[39m\u001b[39m.\u001b[39mgeo \u001b[39mis\u001b[39;00m \u001b[39mTrue\u001b[39;00m:\n",
      "File \u001b[0;32m~/Progetti/GitHub/OTPBorghi/.conda/lib/python3.8/site-packages/gtfs_functions/aux_functions.py:214\u001b[0m, in \u001b[0;36madd_all_lines\u001b[0;34m(line_frequencies, segments_gdf, labels, cutoffs)\u001b[0m\n\u001b[1;32m    210\u001b[0m data_all_lines[\u001b[39m'\u001b[39m\u001b[39mmin_per_trip\u001b[39m\u001b[39m'\u001b[39m] \u001b[39m=\u001b[39m ((end_time \u001b[39m-\u001b[39m start_time)\u001b[39m*\u001b[39m\u001b[39m60\u001b[39m \u001b[39m/\u001b[39m data_all_lines\u001b[39m.\u001b[39mntrips)\\\n\u001b[1;32m    211\u001b[0m     \u001b[39m.\u001b[39mastype(\u001b[39mint\u001b[39m)\n\u001b[1;32m    213\u001b[0m \u001b[39m# Append data for all lines to the input df\u001b[39;00m\n\u001b[0;32m--> 214\u001b[0m data_complete \u001b[39m=\u001b[39m line_frequencies\u001b[39m.\u001b[39;49mappend(data_all_lines)\u001b[39m.\u001b[39mreset_index()\n\u001b[1;32m    216\u001b[0m \u001b[39mreturn\u001b[39;00m data_complete\n",
      "File \u001b[0;32m~/Progetti/GitHub/OTPBorghi/.conda/lib/python3.8/site-packages/pandas/core/generic.py:5989\u001b[0m, in \u001b[0;36mNDFrame.__getattr__\u001b[0;34m(self, name)\u001b[0m\n\u001b[1;32m   5982\u001b[0m \u001b[39mif\u001b[39;00m (\n\u001b[1;32m   5983\u001b[0m     name \u001b[39mnot\u001b[39;00m \u001b[39min\u001b[39;00m \u001b[39mself\u001b[39m\u001b[39m.\u001b[39m_internal_names_set\n\u001b[1;32m   5984\u001b[0m     \u001b[39mand\u001b[39;00m name \u001b[39mnot\u001b[39;00m \u001b[39min\u001b[39;00m \u001b[39mself\u001b[39m\u001b[39m.\u001b[39m_metadata\n\u001b[1;32m   5985\u001b[0m     \u001b[39mand\u001b[39;00m name \u001b[39mnot\u001b[39;00m \u001b[39min\u001b[39;00m \u001b[39mself\u001b[39m\u001b[39m.\u001b[39m_accessors\n\u001b[1;32m   5986\u001b[0m     \u001b[39mand\u001b[39;00m \u001b[39mself\u001b[39m\u001b[39m.\u001b[39m_info_axis\u001b[39m.\u001b[39m_can_hold_identifiers_and_holds_name(name)\n\u001b[1;32m   5987\u001b[0m ):\n\u001b[1;32m   5988\u001b[0m     \u001b[39mreturn\u001b[39;00m \u001b[39mself\u001b[39m[name]\n\u001b[0;32m-> 5989\u001b[0m \u001b[39mreturn\u001b[39;00m \u001b[39mobject\u001b[39;49m\u001b[39m.\u001b[39;49m\u001b[39m__getattribute__\u001b[39;49m(\u001b[39mself\u001b[39;49m, name)\n",
      "\u001b[0;31mAttributeError\u001b[0m: 'DataFrame' object has no attribute 'append'"
     ]
    }
   ],
   "source": [
    "from gtfs_functions import Feed, map_gdf\n",
    "\n",
    "#test con i pullman\n",
    "gtfs_path = 'gtfsFiles/21-extraurbanolucca.gtfs.zip'\n",
    "\n",
    "feed = Feed(gtfs_path, time_windows=[0, 6, 10, 12, 16, 19, 24])\n",
    "\n",
    "routes = feed.routes\n",
    "stops = feed.stops\n",
    "trips = feed.trips\n",
    "shapes = feed.shapes\n",
    "time_windows = [0, 6, 9, 15.5, 19, 22, 24]\n",
    "\n",
    "feed = Feed(gtfs_path, time_windows=time_windows)\n",
    "stop_freq = feed.stops_freq\n",
    "line_freq = feed.lines_freq\n",
    "segments_gdf = feed.segments\n",
    "speeds = feed.avg_speeds\n",
    "segments_freq = feed.segments_freq\n",
    "\n",
    "\n"
   ]
  },
  {
   "cell_type": "code",
   "execution_count": null,
   "metadata": {},
   "outputs": [],
   "source": [
    "\n",
    "# Line frequencies\n",
    "condition_dir = line_freq.direction_id == 'Inbound'\n",
    "condition_window = line_freq.window == '6:00-9:00'\n",
    "\n",
    "gdf = line_freq.loc[(condition_dir & condition_window),:].reset_index()\n",
    "\n",
    "gtfs.map_gdf(gdf = gdf, \n",
    "              variable = 'ntrips', \n",
    "              colors = [\"#d13870\", \"#e895b3\" ,'#55d992', '#3ab071', '#0e8955','#066a40'], \n",
    "              tooltip_var = ['route_name'] , \n",
    "              tooltip_labels = ['Route: '], \n",
    "              breaks = [5, 10, 20, 50])"
   ]
  },
  {
   "cell_type": "code",
   "execution_count": null,
   "metadata": {},
   "outputs": [],
   "source": [
    "# Speeds\n",
    "import keplergl as kp\n",
    "m = kp.KeplerGl(data=dict(data=speeds, name='Speed Lines'), height=400)\n",
    "m\n"
   ]
  },
  {
   "cell_type": "code",
   "execution_count": null,
   "metadata": {},
   "outputs": [],
   "source": []
  },
  {
   "cell_type": "code",
   "execution_count": null,
   "metadata": {},
   "outputs": [],
   "source": []
  }
 ],
 "metadata": {
  "kernelspec": {
   "display_name": "Python 3",
   "language": "python",
   "name": "python3"
  },
  "language_info": {
   "codemirror_mode": {
    "name": "ipython",
    "version": 3
   },
   "file_extension": ".py",
   "mimetype": "text/x-python",
   "name": "python",
   "nbconvert_exporter": "python",
   "pygments_lexer": "ipython3",
   "version": "3.8.18"
  }
 },
 "nbformat": 4,
 "nbformat_minor": 2
}
