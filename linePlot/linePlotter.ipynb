{
 "cells": [
  {
   "cell_type": "markdown",
   "metadata": {},
   "source": [
    "# Line frequencies\n",
    "\n",
    "\n",
    "https://github.com/Bondify/gtfs_functions#line_freq\n"
   ]
  },
  {
   "cell_type": "code",
   "execution_count": 1,
   "metadata": {},
   "outputs": [
    {
     "name": "stderr",
     "output_type": "stream",
     "text": [
      "/home/john/Progetti/GitHub/OTPBorghi/.conda/lib/python3.8/site-packages/_distutils_hack/__init__.py:33: UserWarning: Setuptools is replacing distutils.\n",
      "  warnings.warn(\"Setuptools is replacing distutils.\")\n"
     ]
    },
    {
     "name": "stdout",
     "output_type": "stream",
     "text": [
      "\n",
      "INSTALLED VERSIONS\n",
      "------------------\n",
      "commit           : 2e218d10984e9919f0296931d92ea851c6a6faf5\n",
      "python           : 3.8.18.final.0\n",
      "python-bits      : 64\n",
      "OS               : Linux\n",
      "OS-release       : 6.2.0-37-generic\n",
      "Version          : #38~22.04.1-Ubuntu SMP PREEMPT_DYNAMIC Thu Nov  2 18:01:13 UTC 2\n",
      "machine          : x86_64\n",
      "processor        : x86_64\n",
      "byteorder        : little\n",
      "LC_ALL           : None\n",
      "LANG             : it_IT.UTF-8\n",
      "LOCALE           : it_IT.UTF-8\n",
      "\n",
      "pandas           : 1.5.3\n",
      "numpy            : 1.24.3\n",
      "pytz             : 2023.3.post1\n",
      "dateutil         : 2.8.2\n",
      "setuptools       : 68.0.0\n",
      "pip              : 23.3\n",
      "Cython           : None\n",
      "pytest           : None\n",
      "hypothesis       : None\n",
      "sphinx           : None\n",
      "blosc            : None\n",
      "feather          : None\n",
      "xlsxwriter       : None\n",
      "lxml.etree       : None\n",
      "html5lib         : None\n",
      "pymysql          : None\n",
      "psycopg2         : None\n",
      "jinja2           : 3.1.2\n",
      "IPython          : 8.12.0\n",
      "pandas_datareader: None\n",
      "bs4              : 4.12.2\n",
      "bottleneck       : 1.3.5\n",
      "brotli           : None\n",
      "fastparquet      : None\n",
      "fsspec           : None\n",
      "gcsfs            : None\n",
      "matplotlib       : None\n",
      "numba            : None\n",
      "numexpr          : 2.8.4\n",
      "odfpy            : None\n",
      "openpyxl         : None\n",
      "pandas_gbq       : None\n",
      "pyarrow          : None\n",
      "pyreadstat       : None\n",
      "pyxlsb           : None\n",
      "s3fs             : None\n",
      "scipy            : None\n",
      "snappy           : None\n",
      "sqlalchemy       : None\n",
      "tables           : None\n",
      "tabulate         : None\n",
      "xarray           : None\n",
      "xlrd             : None\n",
      "xlwt             : None\n",
      "zstandard        : None\n",
      "tzdata           : 2023.3\n",
      "None\n"
     ]
    }
   ],
   "source": [
    "import pandas as pd\n",
    "print(pd.show_versions())"
   ]
  },
  {
   "cell_type": "code",
   "execution_count": 8,
   "metadata": {},
   "outputs": [
    {
     "name": "stderr",
     "output_type": "stream",
     "text": [
      "INFO:root:Reading \"routes.txt\".\n",
      "INFO:root:Reading \"stops.txt\".\n",
      "INFO:root:accessing trips\n",
      "INFO:root:Reading \"trips.txt\".\n",
      "INFO:root:Reading \"trips.txt\".\n",
      "INFO:root:computing patterns\n",
      "INFO:root:_trips is defined in stop_times\n",
      "INFO:root:Reading \"stop_times.txt\".\n",
      "INFO:root:Reading \"shapes.txt\".\n",
      "INFO:root:get trips in stop_times\n",
      "INFO:root:accessing trips\n",
      "INFO:root:Reading \"routes.txt\".\n",
      "INFO:root:Reading \"trips.txt\".\n",
      "INFO:root:Reading \"trips.txt\".\n",
      "INFO:root:computing patterns\n",
      "INFO:root:_trips is defined in stop_times\n",
      "INFO:root:Reading \"stops.txt\".\n",
      "INFO:root:Reading \"stop_times.txt\".\n",
      "INFO:root:Reading \"stop_times.txt\".\n",
      "INFO:root:Reading \"shapes.txt\".\n",
      "INFO:root:segments_df: 211, geometry: 211\n",
      "INFO:root:adding runtime\n",
      "INFO:root:adding distance in meters\n",
      "INFO:root:calculating speed in km/h\n",
      "INFO:root:fixing outliers\n",
      "INFO:root:aggregating speed by segment and window\n",
      "INFO:root:adding data for all lines.\n"
     ]
    }
   ],
   "source": [
    "from gtfs_functions import Feed, map_gdf\n",
    "import pandas \n",
    "\n",
    "#test con i pullman\n",
    "gtfs_path = 'gtfsFiles/21-extraurbanolucca.gtfs.zip'\n",
    "\n",
    "feed = Feed(gtfs_path, time_windows=[0, 6, 10, 12, 16, 19, 24])\n",
    "\n",
    "routes = feed.routes\n",
    "stops = feed.stops\n",
    "trips = feed.trips\n",
    "shapes = feed.shapes\n",
    "time_windows = [0, 6, 9, 15.5, 19, 22, 24]\n",
    "\n",
    "feed = Feed(gtfs_path, time_windows=time_windows)\n",
    "stop_freq = feed.stops_freq\n",
    "line_freq = feed.lines_freq\n",
    "segments_gdf = feed.segments\n",
    "speeds = feed.avg_speeds\n",
    "segments_freq = feed.segments_freq"
   ]
  },
  {
   "cell_type": "code",
   "execution_count": 23,
   "metadata": {},
   "outputs": [
    {
     "name": "stdout",
     "output_type": "stream",
     "text": [
      "User Guide: https://docs.kepler.gl/docs/keplergl-jupyter\n"
     ]
    },
    {
     "data": {
      "application/vnd.jupyter.widget-view+json": {
       "model_id": "a8a8c08c0cc840849ec67d755991cdc8",
       "version_major": 2,
       "version_minor": 0
      },
      "text/plain": [
       "KeplerGl(data={'data':         route_id                           route_name direction_id  \\\n",
       "0     1352216430 …"
      ]
     },
     "metadata": {},
     "output_type": "display_data"
    }
   ],
   "source": [
    "\n",
    "import keplergl as kp\n",
    "m = kp.KeplerGl(data=dict(data=speeds, name='Speed Lines'), height=400)\n",
    "m\n"
   ]
  }
 ],
 "metadata": {
  "kernelspec": {
   "display_name": "Python 3",
   "language": "python",
   "name": "python3"
  },
  "language_info": {
   "codemirror_mode": {
    "name": "ipython",
    "version": 3
   },
   "file_extension": ".py",
   "mimetype": "text/x-python",
   "name": "python",
   "nbconvert_exporter": "python",
   "pygments_lexer": "ipython3",
   "version": "3.8.18"
  }
 },
 "nbformat": 4,
 "nbformat_minor": 2
}
